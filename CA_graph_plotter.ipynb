{
  "nbformat": 4,
  "nbformat_minor": 0,
  "metadata": {
    "colab": {
      "provenance": []
    },
    "kernelspec": {
      "name": "python3",
      "display_name": "Python 3"
    },
    "language_info": {
      "name": "python"
    }
  },
  "cells": [
    {
      "cell_type": "code",
      "source": [
        "from math import *\n",
        "import matplotlib.pyplot as plt\n",
        "%matplotlib inline"
      ],
      "metadata": {
        "id": "9RMN-WcpyoKC"
      },
      "execution_count": 2,
      "outputs": []
    },
    {
      "cell_type": "markdown",
      "source": [
        "Number of reg and memory instructions"
      ],
      "metadata": {
        "id": "LTXMeeS4wzVv"
      }
    },
    {
      "cell_type": "code",
      "execution_count": 33,
      "metadata": {
        "colab": {
          "base_uri": "https://localhost:8080/",
          "height": 334
        },
        "id": "WyUf43hJwrus",
        "outputId": "a1aa77b9-15fb-4350-a0ea-78bd2b979918"
      },
      "outputs": [
        {
          "output_type": "display_data",
          "data": {
            "text/plain": [
              "<Figure size 720x360 with 1 Axes>"
            ],
            "image/png": "[encoded data removed]"
          },
          "metadata": {
            "needs_background": "light"
          }
        }
      ],
      "source": [
        "mem=0\n",
        "total =0\n",
        "reg=0\n",
        "f = open(\"instructions.txt\", \"r\")\n",
        "for x in f:\n",
        "  total+=1\n",
        "  if((x[25:32]=='0000011') or (x[25:32]=='0100011') or (x[25:32]=='1111111') or (x[25:32]=='1111011')):\n",
        "    mem+=1\n",
        "  elif(x[25:32]=='0000000'):\n",
        "    pass\n",
        "  else:\n",
        "    reg+=1\n",
        "types = ['memory','reg']\n",
        "values = [mem,reg]\n",
        "fig = plt.figure(figsize = (10, 5))\n",
        "# creating the bar plot\n",
        "plt.bar(types, values, color ='maroon',width = 0.4)\n",
        "plt.xlabel(\"Instruction Type\")\n",
        "plt.ylabel(\"Frequency\")\n",
        "plt.show()"
      ]
    },
    {
      "cell_type": "markdown",
      "source": [
        "Data Memory accesses by the CPU"
      ],
      "metadata": {
        "id": "sSXu35mO26IL"
      }
    },
    {
      "cell_type": "code",
      "source": [
        "f = open(\"logfile.txt\", \"r\")\n",
        "freq = {}\n",
        "for x in f:\n",
        "  if(x[0:3]=='MA:'):\n",
        "    addr = int(x[3:-1])\n",
        "    print(addr)\n",
        "    if addr not in freq.keys():\n",
        "      freq[addr]=1\n",
        "    else:\n",
        "      freq[addr]+=1\n",
        "x = freq.keys()\n",
        "y = freq.values()\n",
        "plt.scatter(x, y, c =\"blue\")\n",
        "# To show the plot\n",
        "plt.show()"
      ],
      "metadata": {
        "colab": {
          "base_uri": "https://localhost:8080/",
          "height": 352
        },
        "id": "zOQoyWakzV9p",
        "outputId": "a2ee559f-7c4a-45a5-ce07-eeda4de77758"
      },
      "execution_count": 34,
      "outputs": [
        {
          "output_type": "stream",
          "name": "stdout",
          "text": [
            "4100\n",
            "2\n",
            "258\n",
            "130\n",
            "2\n"
          ]
        },
        {
          "output_type": "display_data",
          "data": {
            "text/plain": [
              "<Figure size 432x288 with 1 Axes>"
            ],
            "image/png": "[encoded data removed]"
          },
          "metadata": {
            "needs_background": "light"
          }
        }
      ]
    },
    {
      "cell_type": "markdown",
      "source": [
        "Instruction memory access"
      ],
      "metadata": {
        "id": "XOvWJTtKLAZg"
      }
    },
    {
      "cell_type": "code",
      "source": [
        "f = open(\"logfile.txt\", \"r\")\n",
        "freq = {}\n",
        "for x in f:\n",
        "  if(x[0:2]=='IM'):\n",
        "    addr = int(x[11:-1])\n",
        "    if addr not in freq.keys():\n",
        "      freq[addr]=1\n",
        "    else:\n",
        "      freq[addr]+=1\n",
        "x = freq.keys()\n",
        "y = freq.values()\n",
        "plt.scatter(x, y, c =\"blue\")\n",
        "# To show the plot\n",
        "plt.show()"
      ],
      "metadata": {
        "colab": {
          "base_uri": "https://localhost:8080/",
          "height": 265
        },
        "id": "-i2vYP42K_t8",
        "outputId": "0234e260-309b-45d0-d0fd-6db47c99fcb1"
      },
      "execution_count": 35,
      "outputs": [
        {
          "output_type": "display_data",
          "data": {
            "text/plain": [
              "<Figure size 432x288 with 1 Axes>"
            ],
            "image/png": "[encoded data removed]"
          },
          "metadata": {
            "needs_background": "light"
          }
        }
      ]
    },
    {
      "cell_type": "markdown",
      "source": [
        "Data Stalls"
      ],
      "metadata": {
        "id": "5arkSvKt4oLX"
      }
    },
    {
      "cell_type": "code",
      "source": [
        "f = open(\"logfile.txt\", \"r\")\n",
        "decode =0\n",
        "memory =0\n",
        "for x in f:\n",
        "  if(x[0:5]=='Stall'):\n",
        "    if (x[5]=='D'):\n",
        "      decode+=1\n",
        "    else:\n",
        "      memory+=1\n",
        "types = ['decode','memory']\n",
        "values = [decode,memory]\n",
        "fig = plt.figure(figsize = (10, 5))\n",
        "# creating the bar plot\n",
        "plt.bar(types, values, color ='maroon',width = 0.4)\n",
        "plt.xlabel(\"Instruction Type\")\n",
        "plt.ylabel(\"Frequency\")\n",
        "plt.show()"
      ],
      "metadata": {
        "colab": {
          "base_uri": "https://localhost:8080/",
          "height": 334
        },
        "id": "Nq71Bepp4nrQ",
        "outputId": "5d0fc8fc-2093-4589-cb8c-9d2c788453a7"
      },
      "execution_count": 36,
      "outputs": [
        {
          "output_type": "display_data",
          "data": {
            "text/plain": [
              "<Figure size 720x360 with 1 Axes>"
            ],
            "image/png": "[encoded data removed]"
          },
          "metadata": {
            "needs_background": "light"
          }
        }
      ]
    }
  ]
}